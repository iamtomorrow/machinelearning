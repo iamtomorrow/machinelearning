{
 "metadata": {
  "language_info": {
   "codemirror_mode": {
    "name": "ipython",
    "version": 3
   },
   "file_extension": ".py",
   "mimetype": "text/x-python",
   "name": "python",
   "nbconvert_exporter": "python",
   "pygments_lexer": "ipython3",
   "version": "3.7.9-final"
  },
  "orig_nbformat": 2,
  "kernelspec": {
   "name": "python3",
   "display_name": "Python 3"
  }
 },
 "nbformat": 4,
 "nbformat_minor": 2,
 "cells": [
  {
   "cell_type": "code",
   "execution_count": 1,
   "metadata": {},
   "outputs": [
    {
     "output_type": "stream",
     "name": "stdout",
     "text": [
      "[1 8 3 4 5]\n[1 2 3 4 5]\n"
     ]
    }
   ],
   "source": [
    "# NumPy Array Copy vs View\n",
    "# COPY:\n",
    "# Make a copy, change the original array, and display both arrays:\n",
    "import numpy as np\n",
    "\n",
    "arr = np.array([1,2,3,4,5])\n",
    "\n",
    "i = arr.copy()\n",
    "arr[1] = 8\n",
    "\n",
    "print(arr)\n",
    "print(i)"
   ]
  },
  {
   "cell_type": "code",
   "execution_count": 2,
   "metadata": {},
   "outputs": [
    {
     "output_type": "stream",
     "name": "stdout",
     "text": [
      "[7 2 3 4 5]\n[7 2 3 4 5]\n"
     ]
    }
   ],
   "source": [
    "# VIEW\n",
    "# Make a view, change the original array, and display both arrays:\n",
    "import numpy as np\n",
    "\n",
    "arr = np.array([1,2,3,4,5])\n",
    "i = arr.view()\n",
    "\n",
    "arr[0] = 7\n",
    "\n",
    "print(arr)\n",
    "print(i)"
   ]
  },
  {
   "cell_type": "code",
   "execution_count": 3,
   "metadata": {},
   "outputs": [
    {
     "output_type": "stream",
     "name": "stdout",
     "text": [
      "[30  2  3  4  5]\n[30  2  3  4  5]\n"
     ]
    }
   ],
   "source": [
    "# Make Changes in the VIEW:\n",
    "# Make a view, change the view, and display both arrays:\n",
    "import numpy as np\n",
    "\n",
    "arr = np.array([1,2,3,4,5])\n",
    "\n",
    "i = arr.view()\n",
    "i[0] = 30\n",
    "\n",
    "print(arr)\n",
    "print(i)"
   ]
  },
  {
   "cell_type": "code",
   "execution_count": 5,
   "metadata": {},
   "outputs": [
    {
     "output_type": "stream",
     "name": "stdout",
     "text": [
      "None\n[1 2 3 4 5 6]\n"
     ]
    }
   ],
   "source": [
    "# Check if Array Owns it's Data\n",
    "# Print the value of the base attribute to check if an array owns it's \n",
    "import numpy as np\n",
    "\n",
    "arr = np.array([1,2,3,4,5,6])\n",
    "\n",
    "a = arr.copy()\n",
    "b = arr.view()\n",
    "\n",
    "print(a.base)\n",
    "print(b.base)"
   ]
  },
  {
   "cell_type": "code",
   "execution_count": null,
   "metadata": {},
   "outputs": [],
   "source": []
  }
 ]
}