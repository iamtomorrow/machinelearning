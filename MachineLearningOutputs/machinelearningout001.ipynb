{
 "metadata": {
  "language_info": {
   "codemirror_mode": {
    "name": "ipython",
    "version": 3
   },
   "file_extension": ".py",
   "mimetype": "text/x-python",
   "name": "python",
   "nbconvert_exporter": "python",
   "pygments_lexer": "ipython3",
   "version": "3.8.5-final"
  },
  "orig_nbformat": 2,
  "kernelspec": {
   "name": "python3",
   "display_name": "Python 3",
   "language": "python"
  }
 },
 "nbformat": 4,
 "nbformat_minor": 2,
 "cells": [
  {
   "cell_type": "code",
   "execution_count": 5,
   "metadata": {},
   "outputs": [
    {
     "output_type": "stream",
     "name": "stdout",
     "text": [
      "43.30769230769231 km\n28.0 km\nModeResult(mode=array([25]), count=array([2])) km\n"
     ]
    }
   ],
   "source": [
    "# Machine Learning - Mean Median Mode\n",
    "\n",
    "# Mean - The average value\n",
    "# Median - The mid point value\n",
    "# Mode - The most common value\n",
    "\n",
    "# Distances (km)\n",
    "distances = [25, 10, 28, 57, 23, 25, 21, 4, 65, 108, 94, 71, 32]\n",
    "\n",
    "from numpy import mean, median\n",
    "from scipy import stats\n",
    "\n",
    "# Mean\n",
    "# Use the NumPy mean() method to find the average distance:\n",
    "meanDistance = mean(distances)\n",
    "\n",
    "print(meanDistance, 'km')\n",
    "\n",
    "# Median\n",
    "# Use the NumPy median() method to find the middle value:\n",
    "medianDistance = median(distances)\n",
    "\n",
    "print(medianDistance, 'km')\n",
    "\n",
    "# Mode\n",
    "# Use the SciPy mode() method to find the number that appears the most:\n",
    "\n",
    "modeDistance = stats.mode(distances)\n",
    "\n",
    "print(modeDistance, 'km')\n",
    "# Output:\n",
    "# mode = 25, cout = 2"
   ]
  },
  {
   "cell_type": "code",
   "execution_count": null,
   "metadata": {},
   "outputs": [],
   "source": []
  }
 ]
}